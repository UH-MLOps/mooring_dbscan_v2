{
 "cells": [
  {
   "cell_type": "code",
   "execution_count": 24,
   "metadata": {},
   "outputs": [],
   "source": [
    "%load_ext autoreload\n",
    "%autoreload 2\n"
   ]
  },
  {
   "cell_type": "code",
   "execution_count": null,
   "metadata": {},
   "outputs": [],
   "source": [
    "from mooring_dbscan import DataObject"
   ]
  },
  {
   "cell_type": "code",
   "execution_count": 5,
   "metadata": {},
   "outputs": [
    {
     "name": "stdout",
     "output_type": "stream",
     "text": [
      "Index(['uid', 'navigationalstatus', 'rateofturn', 'speedoverground',\n",
      "       'courseoverground', 'trueheading', 'lng', 'lat', 't', 'shiptype',\n",
      "       'tobow', 'tostern', 'tostarboard', 'toport', 'datetime'],\n",
      "      dtype='object')\n",
      "            uid  navigationalstatus  ...  toport            datetime\n",
      "3587  205204000                 0.0  ...     8.0 2015-10-02 02:51:43\n",
      "3588  205204000                 0.0  ...     8.0 2015-10-02 02:56:02\n",
      "3589  205204000                 0.0  ...     8.0 2015-10-02 02:57:22\n",
      "3590  205204000                 0.0  ...     8.0 2015-10-02 02:58:53\n",
      "3591  205204000                 0.0  ...     8.0 2015-10-02 02:59:22\n",
      "3592  205204000                 0.0  ...     8.0 2015-10-02 02:59:43\n",
      "3593  205204000                 0.0  ...     8.0 2015-10-02 03:00:02\n",
      "3594  205204000                 0.0  ...     8.0 2015-10-02 03:00:22\n",
      "3595  205204000                 0.0  ...     8.0 2015-10-02 03:00:43\n",
      "3596  205204000                 0.0  ...     8.0 2015-10-02 03:01:02\n",
      "\n",
      "[10 rows x 15 columns]\n",
      "219074625\n",
      "           uid  ...                   geometry\n",
      "0    211135000  ...  POINT (-4.45289 48.38194)\n",
      "1    211135000  ...  POINT (-4.45289 48.38194)\n",
      "2    211135000  ...  POINT (-4.45289 48.38195)\n",
      "3    212542000  ...  POINT (-4.47167 48.38125)\n",
      "4    212542000  ...  POINT (-4.47168 48.38125)\n",
      "..         ...  ...                        ...\n",
      "370  369886000  ...  POINT (-4.51100 48.36550)\n",
      "371  378394000  ...  POINT (-4.48829 48.37734)\n",
      "372  378394000  ...  POINT (-4.48829 48.37734)\n",
      "373  378394000  ...  POINT (-4.48829 48.37734)\n",
      "374  378394000  ...  POINT (-4.48830 48.37734)\n",
      "\n",
      "[375 rows x 17 columns]\n"
     ]
    },
    {
     "name": "stderr",
     "output_type": "stream",
     "text": [
      "/home/fabianre/git/mooring_dbscan_v2/.venv/lib/python3.9/site-packages/pyproj/crs/crs.py:141: FutureWarning: '+init=<authority>:<code>' syntax is deprecated. '<authority>:<code>' is the preferred initialization method. When making the change, be mindful of axis order changes: https://pyproj4.github.io/pyproj/stable/gotchas.html#axis-order-changes-in-proj-6\n",
      "  in_crs_string = _prepare_from_proj_string(in_crs_string)\n"
     ]
    }
   ],
   "source": [
    "data_obj = DataObject()\n",
    "data_obj.run()"
   ]
  },
  {
   "cell_type": "code",
   "execution_count": 40,
   "metadata": {},
   "outputs": [],
   "source": [
    "from mooring_dbscan import Model\n",
    "model_obj = Model()\n",
    "model_obj.run(data_obj.train)"
   ]
  },
  {
   "cell_type": "code",
   "execution_count": 39,
   "metadata": {},
   "outputs": [
    {
     "data": {
      "text/plain": [
       "<mooring_dbscan.Visualizer at 0x7fb12fe689a0>"
      ]
     },
     "execution_count": 39,
     "metadata": {},
     "output_type": "execute_result"
    }
   ],
   "source": [
    "from mooring_dbscan import Visualizer\n",
    "Visualizer(model_obj)"
   ]
  }
 ],
 "metadata": {
  "kernelspec": {
   "display_name": "Python 3",
   "language": "python",
   "name": "python3"
  },
  "language_info": {
   "codemirror_mode": {
    "name": "ipython",
    "version": 3
   },
   "file_extension": ".py",
   "mimetype": "text/x-python",
   "name": "python",
   "nbconvert_exporter": "python",
   "pygments_lexer": "ipython3",
   "version": "3.9.17"
  },
  "orig_nbformat": 4
 },
 "nbformat": 4,
 "nbformat_minor": 2
}
